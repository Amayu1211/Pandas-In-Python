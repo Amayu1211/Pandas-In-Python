{
 "cells": [
  {
   "cell_type": "code",
   "execution_count": 1,
   "metadata": {},
   "outputs": [],
   "source": [
    "import pandas as pd\n",
    "import numpy as np"
   ]
  },
  {
   "cell_type": "code",
   "execution_count": 2,
   "metadata": {},
   "outputs": [],
   "source": [
    "Df = pd.DataFrame()"
   ]
  },
  {
   "cell_type": "code",
   "execution_count": 3,
   "metadata": {},
   "outputs": [
    {
     "name": "stdout",
     "output_type": "stream",
     "text": [
      "Empty DataFrame\n",
      "Columns: []\n",
      "Index: []\n"
     ]
    }
   ],
   "source": [
    "print(Df)"
   ]
  },
  {
   "cell_type": "code",
   "execution_count": 4,
   "metadata": {},
   "outputs": [
    {
     "name": "stdout",
     "output_type": "stream",
     "text": [
      "    0\n",
      "0  10\n",
      "1  20\n",
      "2  30\n",
      "3  40\n",
      "4  50\n",
      "5  60\n"
     ]
    }
   ],
   "source": [
    "#DATAFRAME WITH LIST\n",
    "import pandas as pd\n",
    "i = [10,20,30,40,50,60]\n",
    "df=pd.DataFrame(i)\n",
    "print(df)"
   ]
  },
  {
   "cell_type": "code",
   "execution_count": 5,
   "metadata": {},
   "outputs": [
    {
     "name": "stdout",
     "output_type": "stream",
     "text": [
      "        0\n",
      "0  Item 1\n",
      "1  Item 2\n",
      "2  Item 3\n",
      "3  Item 4\n"
     ]
    }
   ],
   "source": [
    "#EXAMPLE WITH STRING VALUES\n",
    "import pandas as pd\n",
    "\n",
    "i = [\"Item 1\", \"Item 2\", \"Item 3\", \"Item 4\"]\n",
    "df = pd.DataFrame(i)\n",
    "print(df)"
   ]
  },
  {
   "cell_type": "code",
   "execution_count": 6,
   "metadata": {},
   "outputs": [
    {
     "name": "stdout",
     "output_type": "stream",
     "text": [
      "        0\n",
      "0    JAVA\n",
      "1     CSS\n",
      "2    HTML\n",
      "3  PYTHON\n",
      "4      10\n",
      "5      20\n",
      "6      30\n",
      "7      40\n"
     ]
    }
   ],
   "source": [
    "#MIX VALUES\n",
    "import pandas as pd\n",
    "\n",
    "i = [\"JAVA\", \"CSS\", \"HTML\", \"PYTHON\", 10,20,30,40]\n",
    "\n",
    "df = pd.DataFrame(i)\n",
    "\n",
    "print(df)"
   ]
  },
  {
   "cell_type": "code",
   "execution_count": 7,
   "metadata": {},
   "outputs": [
    {
     "name": "stdout",
     "output_type": "stream",
     "text": [
      "   no  name\n",
      "0   1  Amit\n",
      "1   2  Aman\n",
      "2   3  Ajay\n"
     ]
    }
   ],
   "source": [
    "#DATAFRAME WITH DICT. VALUES\n",
    "\n",
    "import pandas as pd\n",
    "\n",
    "i = {'no' :[1, 2, 3], 'name' :['Amit','Aman','Ajay',]}\n",
    "\n",
    "df = pd.DataFrame(i)\n",
    "\n",
    "print (df)"
   ]
  },
  {
   "cell_type": "code",
   "execution_count": 8,
   "metadata": {},
   "outputs": [
    {
     "name": "stdout",
     "output_type": "stream",
     "text": [
      "   no    Name Marks\n",
      "0   1    john    20\n",
      "1   2    andy    30\n",
      "2   3  sandra    25\n",
      "3   4   jonny    45\n"
     ]
    }
   ],
   "source": [
    "#DICT. EXAMPLE\n",
    "\n",
    "import pandas as pd\n",
    "\n",
    "i = {'no' :[1, 2, 3, 4],\n",
    "\n",
    "'Name' :['john','andy','sandra', 'jonny'],\n",
    "'Marks': ['20', '30', '25', '45']}\n",
    "\n",
    "df = pd.DataFrame(i)\n",
    "\n",
    "print (df)"
   ]
  },
  {
   "cell_type": "code",
   "execution_count": 9,
   "metadata": {},
   "outputs": [
    {
     "name": "stdout",
     "output_type": "stream",
     "text": [
      "   no\n",
      "a   1\n",
      "b   2\n",
      "c   3\n",
      "d   4\n",
      "e   5\n"
     ]
    }
   ],
   "source": [
    "#DATAFRAME WITH SERIES\n",
    "\n",
    "import pandas as pd\n",
    "\n",
    "i = {'no' : pd.Series([1, 2, 3, 4, 5], index=['a', 'b', 'c', 'd', 'e'])}\n",
    "\n",
    "d1 = pd.DataFrame(i)\n",
    "\n",
    "print (d1)"
   ]
  },
  {
   "cell_type": "code",
   "execution_count": 10,
   "metadata": {},
   "outputs": [
    {
     "name": "stdout",
     "output_type": "stream",
     "text": [
      "     no  no1\n",
      "a   1.0  NaN\n",
      "a1  NaN  6.0\n",
      "b   2.0  NaN\n",
      "b1  NaN  7.0\n",
      "c   3.0  NaN\n",
      "c1  NaN  8.0\n"
     ]
    }
   ],
   "source": [
    "#import pandas as pd\n",
    "#2 Column\n",
    "\n",
    "i = {'no' : pd.Series([1, 2, 3], index=['a', 'b', 'c']),\n",
    "    'no1' : pd.Series([6, 7, 8], index=['a1', 'b1', 'c1'])\n",
    "}\n",
    "\n",
    "d1 = pd.DataFrame(i)\n",
    "\n",
    "print (d1)"
   ]
  },
  {
   "cell_type": "markdown",
   "metadata": {},
   "source": [
    "# Methods"
   ]
  },
  {
   "cell_type": "code",
   "execution_count": 11,
   "metadata": {},
   "outputs": [
    {
     "data": {
      "text/html": [
       "<div>\n",
       "<style scoped>\n",
       "    .dataframe tbody tr th:only-of-type {\n",
       "        vertical-align: middle;\n",
       "    }\n",
       "\n",
       "    .dataframe tbody tr th {\n",
       "        vertical-align: top;\n",
       "    }\n",
       "\n",
       "    .dataframe thead th {\n",
       "        text-align: right;\n",
       "    }\n",
       "</style>\n",
       "<table border=\"1\" class=\"dataframe\">\n",
       "  <thead>\n",
       "    <tr style=\"text-align: right;\">\n",
       "      <th></th>\n",
       "      <th>x</th>\n",
       "      <th>y</th>\n",
       "    </tr>\n",
       "  </thead>\n",
       "  <tbody>\n",
       "    <tr>\n",
       "      <th>0</th>\n",
       "      <td>15</td>\n",
       "      <td>47</td>\n",
       "    </tr>\n",
       "    <tr>\n",
       "      <th>1</th>\n",
       "      <td>25</td>\n",
       "      <td>24</td>\n",
       "    </tr>\n",
       "    <tr>\n",
       "      <th>2</th>\n",
       "      <td>32</td>\n",
       "      <td>17</td>\n",
       "    </tr>\n",
       "    <tr>\n",
       "      <th>3</th>\n",
       "      <td>49</td>\n",
       "      <td>29</td>\n",
       "    </tr>\n",
       "    <tr>\n",
       "      <th>0</th>\n",
       "      <td>245</td>\n",
       "      <td>47</td>\n",
       "    </tr>\n",
       "    <tr>\n",
       "      <th>1</th>\n",
       "      <td>145</td>\n",
       "      <td>24</td>\n",
       "    </tr>\n",
       "    <tr>\n",
       "      <th>2</th>\n",
       "      <td>412</td>\n",
       "      <td>17</td>\n",
       "    </tr>\n",
       "  </tbody>\n",
       "</table>\n",
       "</div>"
      ],
      "text/plain": [
       "     x   y\n",
       "0   15  47\n",
       "1   25  24\n",
       "2   32  17\n",
       "3   49  29\n",
       "0  245  47\n",
       "1  145  24\n",
       "2  412  17"
      ]
     },
     "execution_count": 11,
     "metadata": {},
     "output_type": "execute_result"
    }
   ],
   "source": [
    "#APPEND() METHOD\n",
    "#Pandas append() function is used to add the rows of other dataframe to the end of the given dataframe.\n",
    "\n",
    "import pandas as pd\n",
    "\n",
    "i = pd.DataFrame({\n",
    "\"x\":[15,25,32,49],\n",
    "\"y\":[47, 24, 17, 29]\n",
    "})\n",
    "\n",
    "j = pd.DataFrame({\n",
    "\"x\":[245, 145, 412],\n",
    "\"y\":[47, 24, 17]\n",
    "})\n",
    "\n",
    "i.append(j, )"
   ]
  },
  {
   "cell_type": "code",
   "execution_count": 12,
   "metadata": {},
   "outputs": [
    {
     "data": {
      "text/html": [
       "<div>\n",
       "<style scoped>\n",
       "    .dataframe tbody tr th:only-of-type {\n",
       "        vertical-align: middle;\n",
       "    }\n",
       "\n",
       "    .dataframe tbody tr th {\n",
       "        vertical-align: top;\n",
       "    }\n",
       "\n",
       "    .dataframe thead th {\n",
       "        text-align: right;\n",
       "    }\n",
       "</style>\n",
       "<table border=\"1\" class=\"dataframe\">\n",
       "  <thead>\n",
       "    <tr style=\"text-align: right;\">\n",
       "      <th></th>\n",
       "      <th>x</th>\n",
       "      <th>y</th>\n",
       "    </tr>\n",
       "  </thead>\n",
       "  <tbody>\n",
       "    <tr>\n",
       "      <th>0</th>\n",
       "      <td>15</td>\n",
       "      <td>47</td>\n",
       "    </tr>\n",
       "    <tr>\n",
       "      <th>1</th>\n",
       "      <td>25</td>\n",
       "      <td>24</td>\n",
       "    </tr>\n",
       "    <tr>\n",
       "      <th>2</th>\n",
       "      <td>32</td>\n",
       "      <td>17</td>\n",
       "    </tr>\n",
       "    <tr>\n",
       "      <th>3</th>\n",
       "      <td>49</td>\n",
       "      <td>29</td>\n",
       "    </tr>\n",
       "    <tr>\n",
       "      <th>4</th>\n",
       "      <td>245</td>\n",
       "      <td>47</td>\n",
       "    </tr>\n",
       "    <tr>\n",
       "      <th>5</th>\n",
       "      <td>145</td>\n",
       "      <td>24</td>\n",
       "    </tr>\n",
       "    <tr>\n",
       "      <th>6</th>\n",
       "      <td>412</td>\n",
       "      <td>17</td>\n",
       "    </tr>\n",
       "  </tbody>\n",
       "</table>\n",
       "</div>"
      ],
      "text/plain": [
       "     x   y\n",
       "0   15  47\n",
       "1   25  24\n",
       "2   32  17\n",
       "3   49  29\n",
       "4  245  47\n",
       "5  145  24\n",
       "6  412  17"
      ]
     },
     "execution_count": 12,
     "metadata": {},
     "output_type": "execute_result"
    }
   ],
   "source": [
    "#IGNORE_INDEX\n",
    "import pandas as pd\n",
    "\n",
    "i = pd.DataFrame({\n",
    "\"x\":[15,25,32,49],\n",
    "\"y\":[47, 24, 17, 29]\n",
    "})\n",
    "\n",
    "j = pd.DataFrame({\n",
    "\"x\":[245, 145, 412],\n",
    "\"y\":[47, 24, 17]\n",
    "})\n",
    "\n",
    "i.append(j, ignore_index = True)"
   ]
  },
  {
   "cell_type": "code",
   "execution_count": 13,
   "metadata": {},
   "outputs": [
    {
     "data": {
      "text/plain": [
       "person    4\n",
       "age       3\n",
       "dtype: int64"
      ]
     },
     "execution_count": 13,
     "metadata": {},
     "output_type": "execute_result"
    }
   ],
   "source": [
    "#COUNT() METHOD\n",
    "\n",
    "import pandas as pd\n",
    "import numpy as np\n",
    "\n",
    "i = pd.DataFrame({\n",
    "\"person\":[\"john\", \"doe\", \"smith\", \"andy\"],\n",
    "\"age\": [30, 39, np.nan, 33]\n",
    "})\n",
    "\n",
    "i.count()"
   ]
  },
  {
   "cell_type": "code",
   "execution_count": 14,
   "metadata": {},
   "outputs": [
    {
     "data": {
      "text/plain": [
       "0    2\n",
       "1    2\n",
       "2    1\n",
       "3    2\n",
       "dtype: int64"
      ]
     },
     "execution_count": 14,
     "metadata": {},
     "output_type": "execute_result"
    }
   ],
   "source": [
    "#COLUMN AXIS\n",
    "\n",
    "import pandas as pd\n",
    "import numpy as np\n",
    "\n",
    "i = pd.DataFrame({\n",
    "\"person\":[\"john\", \"doe\", \"smith\", \"andy\"],\n",
    "\"age\": [30, 39, np.nan, 33]\n",
    "})\n",
    "\n",
    "i.count()\n",
    "i.count(axis='columns')"
   ]
  },
  {
   "cell_type": "code",
   "execution_count": 15,
   "metadata": {},
   "outputs": [
    {
     "data": {
      "text/plain": [
       "0    2\n",
       "1    3\n",
       "2    1\n",
       "3    3\n",
       "dtype: int64"
      ]
     },
     "execution_count": 15,
     "metadata": {},
     "output_type": "execute_result"
    }
   ],
   "source": [
    "#AXIS\n",
    "\n",
    "import pandas as pd\n",
    "import numpy as np\n",
    "\n",
    "i = pd.DataFrame({\n",
    "\"person\":[\"john\", \"doe\", \"smith\", \"andy\"],\n",
    "\"age\": [30, 39, np.nan, 33],\n",
    "\"city\": [np.nan, 'pune', np.nan, 'pune']\n",
    "})\n",
    "\n",
    "i.count()\n",
    "i.count(axis='columns')"
   ]
  }
 ],
 "metadata": {
  "kernelspec": {
   "display_name": "Python 3",
   "language": "python",
   "name": "python3"
  },
  "language_info": {
   "codemirror_mode": {
    "name": "ipython",
    "version": 3
   },
   "file_extension": ".py",
   "mimetype": "text/x-python",
   "name": "python",
   "nbconvert_exporter": "python",
   "pygments_lexer": "ipython3",
   "version": "3.8.5"
  }
 },
 "nbformat": 4,
 "nbformat_minor": 4
}
